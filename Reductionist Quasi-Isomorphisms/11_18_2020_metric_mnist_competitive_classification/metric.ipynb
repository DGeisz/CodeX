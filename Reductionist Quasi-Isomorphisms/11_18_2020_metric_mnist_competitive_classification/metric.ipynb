{
 "cells": [
  {
   "cell_type": "markdown",
   "metadata": {},
   "source": [
    "# MNIST Competitive Classification Metric\n",
    "\n",
    "## Code\n",
    "**Repo**: https://github.com/DGeisz/MNIST-Competive-Classification-Metric/tree/master\n",
    "\n",
    "## Purpose\n",
    "The purpose of this classification metric is to test how well a given competitive algorithm is able to find the most \n",
    "essential parts of the MNIST dataset (mnist).  Algorithms that use this metric will essentially learn N prototypes of the data in the mnist.  After learning takes places, each prototype will be assigned a set of weights corresponding to the data to which\n",
    "they responded most strongly.  These weights will then be used to classify new data upon which the model has not been trained.  If the model gets a high accuracy in it's classification, then it is assumed that the model did a good job of finding a reductionist quasi-isomorphism that properly captures the nature of the input data.\n",
    "\n",
    "## Methodology\n",
    "Models that use this classification metric will train on some portion of the mnist dataset.  After training, the model is passed through the dataset one final time.  Each node produces a number between 0 and 1 associated with how well it correlates to the given input.  The node with the highest input is the \"winner.\" This metric keeps track of how many inputs each node wins for each classification.  So a node might have won 203 inputs that were 1s, 38 inputs that were 2s, 10 inputs that were 3s, and so on.\n",
    "\n",
    "After this classification step, each node has associated with it a vector of integers, like (0, 203, 38, 10, 0, 0, 3, 45, 67, 98), which corresponds to the number of each type of handwritten digit it won.  In this case, the node responds most strongly to the handwritten digit \"1.\"\n",
    "\n",
    "To predict the classification of a new handwritten digit, the output response of each digit is multiplied by its classification vector, the resulting weight vectors of each of the nodes are summed.  At this point, the vector component with the highest value is taken to be the prediction of the model.\n",
    "\n",
    "The simple logic behind this classification is that nodes that won a particular input would probably be most activated by that particular input.  We also want to give greater consideration to nodes that won more often.  Thus this is a reasonable classification strategy given a set of prototype-nodes."
   ]
  }
 ],
 "metadata": {
  "kernelspec": {
   "display_name": "Python 3",
   "language": "python",
   "name": "python3"
  },
  "language_info": {
   "codemirror_mode": {
    "name": "ipython",
    "version": 3
   },
   "file_extension": ".py",
   "mimetype": "text/x-python",
   "name": "python",
   "nbconvert_exporter": "python",
   "pygments_lexer": "ipython3",
   "version": "3.6.2"
  }
 },
 "nbformat": 4,
 "nbformat_minor": 2
}
