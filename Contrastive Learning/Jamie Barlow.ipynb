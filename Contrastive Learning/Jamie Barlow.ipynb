{
 "cells": [
  {
   "cell_type": "code",
   "execution_count": 2,
   "metadata": {},
   "outputs": [],
   "source": [
    "import importlib\n",
    "import torch\n",
    "import torchvision\n",
    "\n",
    "from torch import nn\n",
    "from torch.utils.data import DataLoader\n",
    "from torchvision import datasets\n",
    "from torchvision.transforms import ToTensor\n",
    "import time\n",
    "\n",
    "from learning_loop import BATCH_SIZE"
   ]
  },
  {
   "cell_type": "code",
   "execution_count": 2,
   "metadata": {},
   "outputs": [
    {
     "name": "stdout",
     "output_type": "stream",
     "text": [
      "Downloading http://ai.stanford.edu/~acoates/stl10/stl10_binary.tar.gz to data/stl10_binary.tar.gz\n"
     ]
    },
    {
     "data": {
      "application/vnd.jupyter.widget-view+json": {
       "model_id": "5592cc5580104815b9597ef2600607d1",
       "version_major": 2,
       "version_minor": 0
      },
      "text/plain": [
       "HBox(children=(FloatProgress(value=1.0, bar_style='info', max=1.0), HTML(value='')))"
      ]
     },
     "metadata": {},
     "output_type": "display_data"
    },
    {
     "name": "stdout",
     "output_type": "stream",
     "text": [
      "Extracting data/stl10_binary.tar.gz to data\n"
     ]
    }
   ],
   "source": [
    "stl = datasets.STL10(root=\"data\", split=\"train\", download=True, transform=ToTensor())"
   ]
  },
  {
   "cell_type": "code",
   "execution_count": 230,
   "metadata": {},
   "outputs": [],
   "source": [
    "def off_diagonal(x):\n",
    "    # return a flattened view of the off-diagonal elements of a square matrix\n",
    "    n, m = x.shape\n",
    "    assert n == m\n",
    "    return x.flatten()[:-1].view(n - 1, n + 1)[:, 1:].flatten()\n",
    "\n",
    "class BarlowTwins(nn.Module):\n",
    "    def __init__(self, batch_size):\n",
    "        super().__init__()\n",
    "        self.lam = 0.0051\n",
    "        self.batch_size = batch_size\n",
    "\n",
    "        # So this is where the res net is.  Cool.\n",
    "        self.backbone = torchvision.models.resnet50(zero_init_residual=True)\n",
    "        self.backbone.fc = nn.Identity()\n",
    "\n",
    "        sizes = [2048, 1024]\n",
    "\n",
    "        layers = []\n",
    "        for i in range(len(sizes) - 2):\n",
    "            layers.append(nn.Linear(sizes[i], sizes[i + 1], bias=False))\n",
    "            layers.append(nn.BatchNorm1d(sizes[i + 1]))\n",
    "            layers.append(nn.ReLU(inplace=True))\n",
    "        layers.append(nn.Linear(sizes[-2], sizes[-1], bias=False))\n",
    "        self.projector = nn.Sequential(*layers)\n",
    "\n",
    "        # normalization layer for the representations z1 and z2\n",
    "        self.bn = nn.BatchNorm1d(sizes[-1], affine=False)\n",
    "\n",
    "    def scale_model(self, alpha):\n",
    "        state_dict = self.state_dict()\n",
    "\n",
    "        for name, param in state_dict.items():\n",
    "            # Don't update if this is not a weight.\n",
    "            if not \"weight\" in name:\n",
    "                continue\n",
    "\n",
    "            # Transform the parameter as required.\n",
    "            transformed_param = param * alpha\n",
    "\n",
    "            # Update the parameter.\n",
    "            param.copy_(transformed_param)\n",
    "            \n",
    "    def forward_reps(self, y1):\n",
    "        return self.bn(self.projector(self.backbone(y1)))\n",
    "    \n",
    "    def cov_eig(self, y1):\n",
    "        reps = self.forward_reps(y1)\n",
    "        cov = (reps.T @ reps) / self.batch_size\n",
    "        e_vals, _ = torch.eig(cov)\n",
    "        e_vals = list(map(lambda x : x[0].item(), e_vals))\n",
    "        e_vals.sort(reverse=True)\n",
    "\n",
    "        return e_vals\n",
    "        \n",
    "    def forward(self, y1):\n",
    "        reps = self.forward_reps(y1)\n",
    "\n",
    "        # empirical cross-correlation matrix\n",
    "        c = reps.T @ reps\n",
    "\n",
    "        # sum the cross-correlation matrix between all gpus\n",
    "        c.div_(self.batch_size)\n",
    "\n",
    "        on_diag = torch.diagonal(c).add_(-1).pow_(2).sum()\n",
    "        off_diag = off_diagonal(c).pow_(2).sum()\n",
    "        loss = on_diag + self.lam * off_diag\n",
    "\n",
    "        return loss"
   ]
  },
  {
   "cell_type": "code",
   "execution_count": 226,
   "metadata": {},
   "outputs": [],
   "source": [
    "stl_loader = DataLoader(stl, batch_size=BATCH_SIZE)\n",
    "data, cls = next(iter(stl_loader))"
   ]
  },
  {
   "cell_type": "code",
   "execution_count": 243,
   "metadata": {},
   "outputs": [],
   "source": [
    "model = BarlowTwins(BATCH_SIZE)"
   ]
  },
  {
   "cell_type": "code",
   "execution_count": 244,
   "metadata": {},
   "outputs": [
    {
     "data": {
      "text/plain": [
       "193.686767578125"
      ]
     },
     "execution_count": 244,
     "metadata": {},
     "output_type": "execute_result"
    }
   ],
   "source": [
    "model.cov_eig(data)[0]"
   ]
  },
  {
   "cell_type": "code",
   "execution_count": 245,
   "metadata": {},
   "outputs": [
    {
     "data": {
      "text/plain": [
       "3.767479574889876e-05"
      ]
     },
     "execution_count": 245,
     "metadata": {},
     "output_type": "execute_result"
    }
   ],
   "source": [
    "model.scale_model(0.04)\n",
    "model.cov_eig(data)[0]"
   ]
  },
  {
   "cell_type": "code",
   "execution_count": null,
   "metadata": {},
   "outputs": [],
   "source": []
  }
 ],
 "metadata": {
  "kernelspec": {
   "display_name": "Environment (conda_pytorch_latest_p37)",
   "language": "python",
   "name": "conda_pytorch_latest_p37"
  },
  "language_info": {
   "codemirror_mode": {
    "name": "ipython",
    "version": 3
   },
   "file_extension": ".py",
   "mimetype": "text/x-python",
   "name": "python",
   "nbconvert_exporter": "python",
   "pygments_lexer": "ipython3",
   "version": "3.7.6"
  }
 },
 "nbformat": 4,
 "nbformat_minor": 4
}
