{
 "cells": [
  {
   "cell_type": "markdown",
   "metadata": {},
   "source": [
    "# CodeXC Log\n",
    "\n",
    "## Code\n",
    "\n",
    "**Repo**: \n",
    "\n",
    "## Purpose\n",
    "\n",
    "The purpose of this tool is to provide an easy way to log different types of events that occur within the scope of a Rust experiment.  This tool also provides different levels of logging for each event, so the person studying the code can look for different programming artifacts.\n",
    "\n",
    "## Docs\n",
    "\n",
    "This tool essentially parses command line arguments of a particular type.  Before I continue, the following are the different types of logging events.\n",
    "\n",
    "* init - Information about initialization.\n",
    "* init_connections - Information about the initialization of connections between different structures.  This is especially useful in the context of graphical structures in which nodes are connected through some notion of an edge.\n",
    "* run - Information about what's occurring in the program as it is run.\n",
    "* run_state - Information about the state of structures in the program as the program is run.\n",
    "* output - If the program has any particular output, it is captured by output events.\n",
    "* output_state - The final state of the program.\n",
    "\n",
    "To run a codeX experiment with one of these logging types, you simply specify the logging type, and an integer corresponding to the level of that type you'd like to see.  So, for example, you might call ```cargo run init 3 init_connections 1```.  This would logging information for init and init_connections at any level below 3 and 1 respectively.  \n",
    "\n",
    "To log an event in your code, you simply make a check to see if a particular level of a particular type is called, and include println! statements inside the conditional block.  Such a check has the form: \n",
    "\n",
    "\n",
    "    if codexc_log::init_connections(3) {\n",
    "        println!(\"Print information about the initial connections being formed\");\n",
    "    }\n",
    "\n",
    "The function in the conditional statement checks to see if the user has specified a level >= 3 for init_connections.  There are equivalent statement for each of the other logging event types.\n",
    "\n"
   ]
  }
 ],
 "metadata": {
  "kernelspec": {
   "display_name": "Python 3",
   "language": "python",
   "name": "python3"
  },
  "language_info": {
   "codemirror_mode": {
    "name": "ipython",
    "version": 3
   },
   "file_extension": ".py",
   "mimetype": "text/x-python",
   "name": "python",
   "nbconvert_exporter": "python",
   "pygments_lexer": "ipython3",
   "version": "3.6.2"
  }
 },
 "nbformat": 4,
 "nbformat_minor": 2
}
